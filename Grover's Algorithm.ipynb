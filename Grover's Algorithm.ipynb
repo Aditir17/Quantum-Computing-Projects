{
 "cells": [
  {
   "cell_type": "code",
   "execution_count": null,
   "id": "fd5b8dc6-d2b7-4fec-9505-b88a2da0c7f7",
   "metadata": {},
   "outputs": [],
   "source": [
    "#Grover's Algorithm is used for unstructured search\n",
    "\n",
    "#Necessary imports\n",
    "from qiskit import QuantumRegister, ClassicalRegister, QuantumCircuit, transpile\n",
    "from qiskit.quantum_info import Operator\n",
    "from qiskit_aer import Aer\n",
    "from qiskit.visualization import plot_histogram"
   ]
  },
  {
   "cell_type": "code",
   "execution_count": null,
   "id": "8d94b315-2190-44f0-8b5d-36d510b8b3f7",
   "metadata": {},
   "outputs": [],
   "source": [
    "# Two qubit oracle operator and marking the /01> state\n",
    "U= Operator([[1,0,0,0],[0,-1,0,0],[0,0,1,0],[0,0,0,1]])\n",
    "print(U)"
   ]
  },
  {
   "cell_type": "code",
   "execution_count": null,
   "id": "2377b8fb-fd73-444f-85f4-fc00a54c3a60",
   "metadata": {},
   "outputs": [],
   "source": [
    "U.is_unitary()"
   ]
  },
  {
   "cell_type": "code",
   "execution_count": null,
   "id": "2862ff57-5cbe-48de-827d-3de651712a4b",
   "metadata": {},
   "outputs": [],
   "source": [
    "#Creatig the quantum circuit\n",
    "qr=QuantumRegister(2,'q')\n",
    "cr=ClassicalRegister(2,'c')\n",
    "qc=QuantumCircuit(qr,cr)\n",
    "\n",
    "#Applying the opeator to the circuit\n",
    "qc.append(U,qr)\n",
    "\n",
    "for i in range(len(qr)):\n",
    "    qc.measure(qr[i],cr[i])\n",
    "\n",
    "qc.draw('mpl')"
   ]
  },
  {
   "cell_type": "code",
   "execution_count": null,
   "id": "51316bc9-5788-46fb-b4b3-a860f565f20e",
   "metadata": {},
   "outputs": [],
   "source": [
    "#Decomposed circuit using unitary operators\n",
    "qc_decompose=qc.decompose()\n",
    "qc_decompose.draw('mpl')"
   ]
  },
  {
   "cell_type": "code",
   "execution_count": null,
   "id": "42a68a8e-a747-49c5-8bf6-dec00cd734cd",
   "metadata": {},
   "outputs": [],
   "source": [
    "num_qubits=2   #Input qubits\n",
    "\n",
    "#Defining quantum and classical registers\n",
    "qr=QuantumRegister(num_qubits,'q')\n",
    "cr=ClassicalRegister(num_qubits,'c')\n",
    "\n",
    "#Defining circuit\n",
    "qc=QuantumCircuit(qr,cr)\n",
    "\n",
    "for i in range(num_qubits):\n",
    "    qc.h(i)\n",
    "\n",
    "qc.barrier()\n",
    "\n",
    "#Appending the defined operator U to the circuit\n",
    "qc.append(U,qr)\n",
    "qc.barrier()\n",
    "\n",
    "#Diffusion circuit\n",
    "for qubit in range(num_qubits):\n",
    "    qc.h(qubit)\n",
    "for qubit in range(num_qubits):\n",
    "    qc.x(qubit)\n",
    "qc.h(num_qubits-1)\n",
    "qc.mcx(list(range(num_qubits-1)),num_qubits-1)\n",
    "qc.h(num_qubits-1)\n",
    "\n",
    "for qubit in range(num_qubits):\n",
    "    qc.x(qubit)\n",
    "\n",
    "for qubit in range(num_qubits):\n",
    "    qc.h(qubit)\n",
    "\n",
    "qc.barrier()\n",
    "\n",
    "qc.measure([0,1],[0,1])\n",
    "\n",
    "qc.draw('mpl')"
   ]
  },
  {
   "cell_type": "code",
   "execution_count": null,
   "id": "8eb63fa6-16fa-4e92-8354-a22e41ac4914",
   "metadata": {},
   "outputs": [],
   "source": [
    "#simulating using qasm simulator\n",
    "backend=Aer.get_backend('qasm_simulator')\n",
    "\n",
    "job=transpile(qc,backend)\n",
    "circuit=backend.run(job)\n",
    "result=circuit.result()\n",
    "counts=result.get_counts(qc)\n",
    "print('no of counts:',counts)\n",
    "\n",
    "plot_histogram(counts)\n"
   ]
  },
  {
   "cell_type": "code",
   "execution_count": null,
   "id": "a865e5ac-9e1f-4086-8b17-23544922393e",
   "metadata": {},
   "outputs": [],
   "source": []
  }
 ],
 "metadata": {
  "kernelspec": {
   "display_name": "Python 3 (ipykernel)",
   "language": "python",
   "name": "python3"
  },
  "language_info": {
   "codemirror_mode": {
    "name": "ipython",
    "version": 3
   },
   "file_extension": ".py",
   "mimetype": "text/x-python",
   "name": "python",
   "nbconvert_exporter": "python",
   "pygments_lexer": "ipython3",
   "version": "3.12.3"
  }
 },
 "nbformat": 4,
 "nbformat_minor": 5
}
