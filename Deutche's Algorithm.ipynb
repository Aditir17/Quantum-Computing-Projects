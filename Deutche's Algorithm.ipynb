{
 "cells": [
  {
   "cell_type": "markdown",
   "id": "d5aac2d4-d1aa-4119-bcab-7b49c10c9ada",
   "metadata": {},
   "source": [
    "Algorithm efficiently illustrtes if the function is constant or balanced"
   ]
  },
  {
   "cell_type": "code",
   "execution_count": null,
   "id": "ab4945c6-ad9e-4653-904a-80e65d9e9503",
   "metadata": {},
   "outputs": [],
   "source": [
    "#Necessary imports\n",
    "from qiskit import QuantumCircuit, transpile\n",
    "from qiskit_aer import Aer\n",
    "from qiskit.visualization import plot_histogram\n",
    "from qiskit.circuit.library import IGate"
   ]
  },
  {
   "cell_type": "code",
   "execution_count": null,
   "id": "cf0e4b34-6884-49ee-8c9d-0e57cdef9b1b",
   "metadata": {},
   "outputs": [],
   "source": [
    "#Creatig circuit \n",
    "qc=QuantumCircuit(2,1,name=\"qc\")\n",
    "qc.x(1)\n",
    "qc.barrier()\n",
    "\n",
    "#Applyig haamard gates to all the qubits which creates superposition\n",
    "qc.h(0)\n",
    "qc.h(1)\n",
    "qc.barrier()\n",
    "\n",
    "#Applying the first oracle illustating constant 0 output \n",
    "qc.append(IGate(), [0])\n",
    "qc.append(IGate(), [1])\n",
    "qc.barrier()\n",
    "\n",
    "#Applying hadamard to input qubit\n",
    "qc.h(0)\n",
    "qc.barrier()\n",
    "\n",
    "qc.measure(0,0)\n",
    "\n",
    "qc.draw('mpl')\n"
   ]
  },
  {
   "cell_type": "code",
   "execution_count": null,
   "id": "287caa3a-a131-485f-b75a-c9a137b079be",
   "metadata": {},
   "outputs": [],
   "source": [
    "#Simulating using qasm simulator \n",
    "backend=Aer.get_backend('qasm_simulator')\n",
    "\n",
    "job=transpile(qc,backend)\n",
    "t_job=backend.run(qc)\n",
    "result=t_job.result()\n",
    "\n",
    "counts=result.get_counts(qc)\n",
    "\n",
    "print('total_counts:',counts)\n",
    "\n",
    "plot_histogram(counts)"
   ]
  },
  {
   "cell_type": "code",
   "execution_count": null,
   "id": "724bc1ab-acd4-4c5a-9127-40eec69503fd",
   "metadata": {},
   "outputs": [],
   "source": [
    "from qiskit.circuit.library import XGate\n",
    "\n",
    "qc=QuantumCircuit(2,1,name=\"qc\")\n",
    "qc.x(1)\n",
    "qc.barrier()\n",
    "\n",
    "qc.h(0)\n",
    "qc.h(1)\n",
    "qc.barrier()\n",
    "\n",
    "#Applying the oracle illustrating constant 1 function\n",
    "qc.append(IGate(), [0])\n",
    "qc.append(XGate(), [1])\n",
    "qc.barrier()\n",
    "\n",
    "qc.h(0)\n",
    "qc.barrier()\n",
    "\n",
    "qc.measure(0,0)\n",
    "\n",
    "qc.draw('mpl')\n"
   ]
  },
  {
   "cell_type": "code",
   "execution_count": null,
   "id": "3a5804f7-45cc-46ce-a971-4884121d5679",
   "metadata": {},
   "outputs": [],
   "source": []
  },
  {
   "cell_type": "code",
   "execution_count": null,
   "id": "031ecd8f-39e9-4726-8ae0-09bfca09c287",
   "metadata": {},
   "outputs": [],
   "source": []
  },
  {
   "cell_type": "code",
   "execution_count": null,
   "id": "20571686-2769-4032-bf19-7e2e31e15df3",
   "metadata": {},
   "outputs": [],
   "source": []
  },
  {
   "cell_type": "code",
   "execution_count": null,
   "id": "d8d17b70-b7ad-4d03-9d8e-a586eb43a577",
   "metadata": {},
   "outputs": [],
   "source": []
  },
  {
   "cell_type": "code",
   "execution_count": null,
   "id": "06a9d365-90d5-4ea1-8a7e-d2a64ea8c66d",
   "metadata": {},
   "outputs": [],
   "source": []
  },
  {
   "cell_type": "code",
   "execution_count": null,
   "id": "b4c80c25-f708-4655-a790-5080b9902464",
   "metadata": {},
   "outputs": [],
   "source": []
  }
 ],
 "metadata": {
  "kernelspec": {
   "display_name": "Python 3 (ipykernel)",
   "language": "python",
   "name": "python3"
  },
  "language_info": {
   "codemirror_mode": {
    "name": "ipython",
    "version": 3
   },
   "file_extension": ".py",
   "mimetype": "text/x-python",
   "name": "python",
   "nbconvert_exporter": "python",
   "pygments_lexer": "ipython3",
   "version": "3.12.3"
  }
 },
 "nbformat": 4,
 "nbformat_minor": 5
}
