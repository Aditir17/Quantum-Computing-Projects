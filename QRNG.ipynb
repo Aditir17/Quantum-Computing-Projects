{
 "cells": [
  {
   "cell_type": "markdown",
   "id": "c90835cd-0daa-44dd-baeb-80a454332a70",
   "metadata": {},
   "source": [
    "The code outputs single random number and the second part of the code illustrates string of random bits along with its decimal number in every run"
   ]
  },
  {
   "cell_type": "code",
   "execution_count": 2,
   "id": "e7602f79-c979-410c-ba95-127857a81e04",
   "metadata": {},
   "outputs": [
    {
     "name": "stdout",
     "output_type": "stream",
     "text": [
      "Quantum random number: 0\n"
     ]
    }
   ],
   "source": [
    "#Qiskit imports\n",
    "from qiskit import QuantumCircuit,  transpile\n",
    "from qiskit_aer import Aer,AerSimulator\n",
    "\n",
    "# Create a quantum circuit with one qubit and one classical bit\n",
    "qc = QuantumCircuit(1, 1)\n",
    "\n",
    "# Apply a Hadamard gate to create a superposition state\n",
    "qc.h(0)\n",
    "\n",
    "# Measure the qubit and store the result in the classical bit\n",
    "qc.measure(0, 0)\n",
    "\n",
    "# Use the AerSimulator to run the circuit\n",
    "simulator = AerSimulator()\n",
    "compiled_circuit = transpile(qc, simulator)\n",
    "result = simulator.run(compiled_circuit, shots=1).result()\n",
    "\n",
    "# Retrieve the result\n",
    "counts = result.get_counts(qc)\n",
    "random_number = int(list(counts.keys())[0])\n",
    "\n",
    "print(\"Quantum random number:\", random_number)"
   ]
  },
  {
   "cell_type": "code",
   "execution_count": 3,
   "id": "6f2d6969-865d-48c0-b3bd-f168a28a276d",
   "metadata": {},
   "outputs": [
    {
     "name": "stdout",
     "output_type": "stream",
     "text": [
      "Quantum bitstring: 01010101\n",
      "Random number (decimal): 85\n"
     ]
    }
   ],
   "source": [
    "#Qiskit imports\n",
    "from qiskit import QuantumCircuit, transpile\n",
    "from qiskit_aer import AerSimulator\n",
    "\n",
    "num_bits = 8  # Number of random bits you want\n",
    "qc = QuantumCircuit(num_bits, num_bits)\n",
    "\n",
    "# Apply Hadamard to each qubit to create superposition\n",
    "for i in range(num_bits):\n",
    "    qc.h(i)\n",
    "    qc.measure(i, i)\n",
    "\n",
    "# Simulate\n",
    "simulator = AerSimulator()\n",
    "compiled = transpile(qc, simulator)\n",
    "result = simulator.run(compiled, shots=1).result()\n",
    "\n",
    "# Extract result\n",
    "counts = result.get_counts(qc)\n",
    "bit_string = list(counts.keys())[0]\n",
    "random_number = int(bit_string, 2)\n",
    "\n",
    "print(f\"Quantum bitstring: {bit_string}\")\n",
    "print(f\"Random number (decimal): {random_number}\")"
   ]
  },
  {
   "cell_type": "code",
   "execution_count": null,
   "id": "745a3e6c-b173-466e-ac34-7150e79dbd09",
   "metadata": {},
   "outputs": [],
   "source": []
  }
 ],
 "metadata": {
  "kernelspec": {
   "display_name": "Python 3 (ipykernel)",
   "language": "python",
   "name": "python3"
  },
  "language_info": {
   "codemirror_mode": {
    "name": "ipython",
    "version": 3
   },
   "file_extension": ".py",
   "mimetype": "text/x-python",
   "name": "python",
   "nbconvert_exporter": "python",
   "pygments_lexer": "ipython3",
   "version": "3.12.3"
  }
 },
 "nbformat": 4,
 "nbformat_minor": 5
}
